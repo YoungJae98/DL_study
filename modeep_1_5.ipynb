{
  "nbformat": 4,
  "nbformat_minor": 0,
  "metadata": {
    "colab": {
      "name": "modeep_1~5.ipynb",
      "provenance": [],
      "collapsed_sections": []
    },
    "kernelspec": {
      "name": "python3",
      "display_name": "Python 3"
    },
    "language_info": {
      "name": "python"
    }
  },
  "cells": [
    {
      "cell_type": "code",
      "metadata": {
        "id": "QD7REqmyDbI7"
      },
      "source": [
        "import torch\n",
        "import torch.optim as optim"
      ],
      "execution_count": null,
      "outputs": []
    },
    {
      "cell_type": "code",
      "metadata": {
        "id": "_kiSi2SyD64u"
      },
      "source": [
        "x_train = torch.FloatTensor([[1], [2], [3]])\n",
        "y_train = torch.FloatTensor([[1], [2], [3]])\n",
        "\n",
        "W = torch.zeros(1, requires_grad=True)\n",
        "b = torch.zeros(1, requires_grad=True)\n",
        "\n",
        "optimizer = optim.SGD([W, b], lr = 0.01)\n",
        "\n",
        "\n",
        "nb_epochs = 50\n",
        "\n",
        "for epoch in range(1, nb_epochs + 1):\n",
        "\n",
        "  hypothesis = W * x_train + b\n",
        "\n",
        "  cost = torch.mean((hypothesis - y_train) ** 2)\n",
        "\n",
        "\n",
        "  optimizer.zero_grad()\n",
        "  cost.backward()\n",
        "  optimizer.step()\n"
      ],
      "execution_count": null,
      "outputs": []
    },
    {
      "cell_type": "markdown",
      "metadata": {
        "id": "f5njhbLZWPyl"
      },
      "source": [
        "**Multivarable Linear Regression**"
      ]
    },
    {
      "cell_type": "code",
      "metadata": {
        "id": "k5tQWq6oEA-A"
      },
      "source": [
        "x_train = torch.FloatTensor([[73, 80, 75], [93, 88, 93], [89, 91, 90], [96, 98, 100], [73, 66, 70]])\n",
        "y_train = torch.FloatTensor([[152], [185], [180], [196], [142]])\n",
        "\n",
        "W = torch.zeros((3, 1), requires_grad=True)\n",
        "b = torch.zeros(1, requires_grad=True)\n",
        "\n",
        "optimizer = optim.SGD([W, b], lr=1e-5)"
      ],
      "execution_count": null,
      "outputs": []
    },
    {
      "cell_type": "code",
      "metadata": {
        "colab": {
          "base_uri": "https://localhost:8080/"
        },
        "id": "x_YtL4jWWmXB",
        "outputId": "33a46530-5a3b-4393-c57b-a807006894e6"
      },
      "source": [
        "nb_epochs = 20\n",
        "\n",
        "for epoch in range(nb_epochs + 1):\n",
        "\n",
        "  hypothesis = x_train.matmul(W) + b\n",
        "\n",
        "  cost = torch.mean((hypothesis - y_train)**2)\n",
        "\n",
        "  optimizer.zero_grad()\n",
        "  cost.backward()\n",
        "  optimizer.step()\n",
        "\n",
        "  print('Epoch {:4d}/{} hypothesis: {} cost: {:.6f}'.format(epoch, nb_epochs, hypothesis.squeeze().detach(), cost.item()))"
      ],
      "execution_count": null,
      "outputs": [
        {
          "output_type": "stream",
          "text": [
            "Epoch    0/20 hypothesis: tensor([0., 0., 0., 0., 0.]) cost: 29661.800781\n",
            "Epoch    1/20 hypothesis: tensor([67.2578, 80.8397, 79.6523, 86.7394, 61.6605]) cost: 9298.520508\n",
            "Epoch    2/20 hypothesis: tensor([104.9128, 126.0990, 124.2466, 135.3015,  96.1821]) cost: 2915.712402\n",
            "Epoch    3/20 hypothesis: tensor([125.9942, 151.4381, 149.2133, 162.4896, 115.5097]) cost: 915.040527\n",
            "Epoch    4/20 hypothesis: tensor([137.7967, 165.6247, 163.1911, 177.7112, 126.3307]) cost: 287.936096\n",
            "Epoch    5/20 hypothesis: tensor([144.4044, 173.5674, 171.0168, 186.2332, 132.3891]) cost: 91.371063\n",
            "Epoch    6/20 hypothesis: tensor([148.1035, 178.0143, 175.3980, 191.0042, 135.7812]) cost: 29.758249\n",
            "Epoch    7/20 hypothesis: tensor([150.1744, 180.5042, 177.8509, 193.6753, 137.6805]) cost: 10.445267\n",
            "Epoch    8/20 hypothesis: tensor([151.3336, 181.8983, 179.2240, 195.1707, 138.7440]) cost: 4.391237\n",
            "Epoch    9/20 hypothesis: tensor([151.9824, 182.6789, 179.9928, 196.0079, 139.3396]) cost: 2.493121\n",
            "Epoch   10/20 hypothesis: tensor([152.3454, 183.1161, 180.4231, 196.4765, 139.6732]) cost: 1.897688\n",
            "Epoch   11/20 hypothesis: tensor([152.5485, 183.3609, 180.6640, 196.7389, 139.8602]) cost: 1.710552\n",
            "Epoch   12/20 hypothesis: tensor([152.6620, 183.4982, 180.7988, 196.8857, 139.9651]) cost: 1.651416\n",
            "Epoch   13/20 hypothesis: tensor([152.7253, 183.5752, 180.8742, 196.9678, 140.0240]) cost: 1.632369\n",
            "Epoch   14/20 hypothesis: tensor([152.7606, 183.6184, 180.9164, 197.0138, 140.0571]) cost: 1.625924\n",
            "Epoch   15/20 hypothesis: tensor([152.7802, 183.6427, 180.9399, 197.0395, 140.0759]) cost: 1.623420\n",
            "Epoch   16/20 hypothesis: tensor([152.7909, 183.6565, 180.9530, 197.0538, 140.0865]) cost: 1.622152\n",
            "Epoch   17/20 hypothesis: tensor([152.7968, 183.6643, 180.9603, 197.0618, 140.0927]) cost: 1.621262\n",
            "Epoch   18/20 hypothesis: tensor([152.7999, 183.6688, 180.9644, 197.0661, 140.0963]) cost: 1.620501\n",
            "Epoch   19/20 hypothesis: tensor([152.8014, 183.6715, 180.9665, 197.0686, 140.0985]) cost: 1.619757\n",
            "Epoch   20/20 hypothesis: tensor([152.8020, 183.6731, 180.9677, 197.0699, 140.0999]) cost: 1.619046\n"
          ],
          "name": "stdout"
        }
      ]
    },
    {
      "cell_type": "markdown",
      "metadata": {
        "id": "PCYDnHBxaF7A"
      },
      "source": [
        "**모듈 사용**"
      ]
    },
    {
      "cell_type": "code",
      "metadata": {
        "id": "Uwq7y-xMXvBi"
      },
      "source": [
        "import torch.nn as nn\n",
        "import torch.nn.functional as F\n",
        "\n",
        "class MultivariateLinearRegressionModel(nn.Module):\n",
        "  def __init__(self):\n",
        "    super().__init__()\n",
        "    self.linear = nn.Linear(3, 1)\n",
        "  \n",
        "  def forward(self, x):\n",
        "    return self.linear(x)\n"
      ],
      "execution_count": null,
      "outputs": []
    },
    {
      "cell_type": "code",
      "metadata": {
        "colab": {
          "base_uri": "https://localhost:8080/"
        },
        "id": "TjGowoHpZQXO",
        "outputId": "f61dda92-0028-43b3-f61c-820ce0932468"
      },
      "source": [
        "x_train = torch.FloatTensor([[73, 80, 75], [93, 88, 93], [89, 91, 90], [96, 98, 100], [73, 66, 70]])\n",
        "y_train = torch.FloatTensor([[152], [185], [180], [196], [142]])\n",
        "\n",
        "model = MultivariateLinearRegressionModel()\n",
        "\n",
        "optimizer = optim.SGD(model.parameters(), lr=1e-5)\n",
        "\n",
        "nb_epochs = 20\n",
        "\n",
        "for epoch in range(nb_epochs + 1):\n",
        "\n",
        "  #hypothesis = x_train.matmul(W) + b\n",
        "  hypothesis = model(x_train)\n",
        "\n",
        "  #cost = torch.mean((hypothesis - y_train)**2)\n",
        "  cost = F.mse_loss(hypothesis, y_train)\n",
        "\n",
        "  optimizer.zero_grad()\n",
        "  cost.backward()\n",
        "  optimizer.step()\n",
        "\n",
        "  print('Epoch {:4d}/{} hypothesis: {} cost: {:.6f}'.format(epoch, nb_epochs, hypothesis.squeeze().detach(), cost.item()))"
      ],
      "execution_count": null,
      "outputs": [
        {
          "output_type": "stream",
          "text": [
            "Epoch    0/20 hypothesis: tensor([-64.2568, -77.3813, -76.1643, -82.3283, -59.6851]) cost: 59874.929688\n",
            "Epoch    1/20 hypothesis: tensor([31.3016, 37.4738, 37.0039, 40.9090, 27.9207]) cost: 18769.457031\n",
            "Epoch    2/20 hypothesis: tensor([ 84.8010, 101.7771, 100.3625, 109.9050,  76.9681]) cost: 5885.075684\n",
            "Epoch    3/20 hypothesis: tensor([114.7531, 137.7783, 135.8346, 148.5332, 104.4282]) cost: 1846.505859\n",
            "Epoch    4/20 hypothesis: tensor([131.5220, 157.9342, 155.6941, 170.1597, 119.8023]) cost: 580.627747\n",
            "Epoch    5/20 hypothesis: tensor([140.9100, 169.2189, 166.8126, 182.2675, 128.4100]) cost: 183.841003\n",
            "Epoch    6/20 hypothesis: tensor([146.1658, 175.5370, 173.0374, 189.0462, 133.2293]) cost: 59.468678\n",
            "Epoch    7/20 hypothesis: tensor([149.1081, 179.0744, 176.5224, 192.8412, 135.9277]) cost: 20.484039\n",
            "Epoch    8/20 hypothesis: tensor([150.7552, 181.0551, 178.4734, 194.9659, 137.4386]) cost: 8.263675\n",
            "Epoch    9/20 hypothesis: tensor([151.6770, 182.1641, 179.5656, 196.1553, 138.2848]) cost: 4.432481\n",
            "Epoch   10/20 hypothesis: tensor([152.1929, 182.7852, 180.1770, 196.8212, 138.7587]) cost: 3.230845\n",
            "Epoch   11/20 hypothesis: tensor([152.4815, 183.1330, 180.5193, 197.1939, 139.0243]) cost: 2.853466\n",
            "Epoch   12/20 hypothesis: tensor([152.6429, 183.3280, 180.7108, 197.4025, 139.1732]) cost: 2.734398\n",
            "Epoch   13/20 hypothesis: tensor([152.7330, 183.4373, 180.8180, 197.5193, 139.2568]) cost: 2.696362\n",
            "Epoch   14/20 hypothesis: tensor([152.7832, 183.4986, 180.8779, 197.5845, 139.3038]) cost: 2.683680\n",
            "Epoch   15/20 hypothesis: tensor([152.8111, 183.5331, 180.9114, 197.6210, 139.3304]) cost: 2.678982\n",
            "Epoch   16/20 hypothesis: tensor([152.8264, 183.5526, 180.9301, 197.6414, 139.3455]) cost: 2.676772\n",
            "Epoch   17/20 hypothesis: tensor([152.8349, 183.5637, 180.9405, 197.6527, 139.3542]) cost: 2.675310\n",
            "Epoch   18/20 hypothesis: tensor([152.8393, 183.5700, 180.9462, 197.6590, 139.3592]) cost: 2.674120\n",
            "Epoch   19/20 hypothesis: tensor([152.8415, 183.5737, 180.9494, 197.6624, 139.3623]) cost: 2.672992\n",
            "Epoch   20/20 hypothesis: tensor([152.8426, 183.5760, 180.9511, 197.6643, 139.3642]) cost: 2.671901\n"
          ],
          "name": "stdout"
        }
      ]
    },
    {
      "cell_type": "markdown",
      "metadata": {
        "id": "1U9LH2QHbIXP"
      },
      "source": [
        "**Minibatch 그래디언트**"
      ]
    },
    {
      "cell_type": "code",
      "metadata": {
        "id": "J5qqnLZ8ZZjv"
      },
      "source": [
        "from torch.utils.data import Dataset\n",
        "\n",
        "class CustomDataset(Dataset):\n",
        "  def __init__(self):\n",
        "    self.x_data = [[73, 80, 75], [93, 88, 93], [89, 91, 90], [96, 98, 100], [73, 66, 70]]\n",
        "    self.y_data = [[152], [185], [180], [196], [142]]\n",
        "\n",
        "  def __len__(self):\n",
        "    return len(self.x_data)\n",
        "\n",
        "  def __getitem__(self, idx):\n",
        "    x = torch.FloatTensor(self.x_data[idx])\n",
        "    y = torch.FloatTensor(self.y_data[idx])\n",
        "\n",
        "    return x, y\n",
        "\n",
        "dataset = CustomDataset()"
      ],
      "execution_count": null,
      "outputs": []
    },
    {
      "cell_type": "code",
      "metadata": {
        "id": "BJLosN3acmTI"
      },
      "source": [
        "from torch.utils.data import DataLoader\n",
        "dataloader = DataLoader(\n",
        "    dataset,\n",
        "    batch_size = 2,\n",
        "    shuffle = True\n",
        ")"
      ],
      "execution_count": null,
      "outputs": []
    },
    {
      "cell_type": "code",
      "metadata": {
        "colab": {
          "base_uri": "https://localhost:8080/"
        },
        "id": "bCCaCmPHcyDC",
        "outputId": "429dd0e6-5b7c-4ef0-922c-1a56146986c9"
      },
      "source": [
        "nb_epochs = 20\n",
        "\n",
        "for epoch in range(nb_epochs + 1):\n",
        "\n",
        "  for batch_idx, samples in enumerate(dataloader):\n",
        "    x_train, y_train = samples\n",
        "    #hypothesis = x_train.matmul(W) + b\n",
        "    hypothesis = model(x_train)\n",
        "\n",
        "    #cost = torch.mean((hypothesis - y_train)**2)\n",
        "    cost = F.mse_loss(hypothesis, y_train)\n",
        "\n",
        "    optimizer.zero_grad()\n",
        "    cost.backward()\n",
        "    optimizer.step()\n",
        "    \n",
        "    print('Epoch {:4d}/{} Batch: {}/{} cost: {:.6f}'.format(epoch, nb_epochs, batch_idx + 1, len(dataloader), cost.item()))"
      ],
      "execution_count": null,
      "outputs": [
        {
          "output_type": "stream",
          "text": [
            "Epoch    0/20 Batch: 1/3 cost: 1.367168\n",
            "Epoch    0/20 Batch: 2/3 cost: 4.843562\n",
            "Epoch    0/20 Batch: 3/3 cost: 1.225775\n",
            "Epoch    1/20 Batch: 1/3 cost: 2.416980\n",
            "Epoch    1/20 Batch: 2/3 cost: 4.264597\n",
            "Epoch    1/20 Batch: 3/3 cost: 0.857014\n",
            "Epoch    2/20 Batch: 1/3 cost: 0.408603\n",
            "Epoch    2/20 Batch: 2/3 cost: 5.260408\n",
            "Epoch    2/20 Batch: 3/3 cost: 2.855283\n",
            "Epoch    3/20 Batch: 1/3 cost: 3.755730\n",
            "Epoch    3/20 Batch: 2/3 cost: 6.007198\n",
            "Epoch    3/20 Batch: 3/3 cost: 1.804557\n",
            "Epoch    4/20 Batch: 1/3 cost: 1.857659\n",
            "Epoch    4/20 Batch: 2/3 cost: 4.812669\n",
            "Epoch    4/20 Batch: 3/3 cost: 2.289309\n",
            "Epoch    5/20 Batch: 1/3 cost: 3.209916\n",
            "Epoch    5/20 Batch: 2/3 cost: 4.591710\n",
            "Epoch    5/20 Batch: 3/3 cost: 2.998748\n",
            "Epoch    6/20 Batch: 1/3 cost: 3.373353\n",
            "Epoch    6/20 Batch: 2/3 cost: 4.318974\n",
            "Epoch    6/20 Batch: 3/3 cost: 1.809234\n",
            "Epoch    7/20 Batch: 1/3 cost: 3.525987\n",
            "Epoch    7/20 Batch: 2/3 cost: 3.988598\n",
            "Epoch    7/20 Batch: 3/3 cost: 2.703630\n",
            "Epoch    8/20 Batch: 1/3 cost: 4.991928\n",
            "Epoch    8/20 Batch: 2/3 cost: 1.550316\n",
            "Epoch    8/20 Batch: 3/3 cost: 2.531340\n",
            "Epoch    9/20 Batch: 1/3 cost: 1.214674\n",
            "Epoch    9/20 Batch: 2/3 cost: 3.530856\n",
            "Epoch    9/20 Batch: 3/3 cost: 5.286505\n",
            "Epoch   10/20 Batch: 1/3 cost: 2.146134\n",
            "Epoch   10/20 Batch: 2/3 cost: 4.101959\n",
            "Epoch   10/20 Batch: 3/3 cost: 3.323155\n",
            "Epoch   11/20 Batch: 1/3 cost: 2.511842\n",
            "Epoch   11/20 Batch: 2/3 cost: 1.060633\n",
            "Epoch   11/20 Batch: 3/3 cost: 10.306788\n",
            "Epoch   12/20 Batch: 1/3 cost: 3.248317\n",
            "Epoch   12/20 Batch: 2/3 cost: 6.180643\n",
            "Epoch   12/20 Batch: 3/3 cost: 1.673149\n",
            "Epoch   13/20 Batch: 1/3 cost: 4.784106\n",
            "Epoch   13/20 Batch: 2/3 cost: 1.278314\n",
            "Epoch   13/20 Batch: 3/3 cost: 1.352875\n",
            "Epoch   14/20 Batch: 1/3 cost: 1.683570\n",
            "Epoch   14/20 Batch: 2/3 cost: 4.789166\n",
            "Epoch   14/20 Batch: 3/3 cost: 0.969355\n",
            "Epoch   15/20 Batch: 1/3 cost: 4.449523\n",
            "Epoch   15/20 Batch: 2/3 cost: 1.888983\n",
            "Epoch   15/20 Batch: 3/3 cost: 4.287457\n",
            "Epoch   16/20 Batch: 1/3 cost: 2.742837\n",
            "Epoch   16/20 Batch: 2/3 cost: 4.420592\n",
            "Epoch   16/20 Batch: 3/3 cost: 1.937319\n",
            "Epoch   17/20 Batch: 1/3 cost: 1.587162\n",
            "Epoch   17/20 Batch: 2/3 cost: 3.247394\n",
            "Epoch   17/20 Batch: 3/3 cost: 5.559884\n",
            "Epoch   18/20 Batch: 1/3 cost: 4.779544\n",
            "Epoch   18/20 Batch: 2/3 cost: 2.325281\n",
            "Epoch   18/20 Batch: 3/3 cost: 0.476967\n",
            "Epoch   19/20 Batch: 1/3 cost: 0.234792\n",
            "Epoch   19/20 Batch: 2/3 cost: 6.922756\n",
            "Epoch   19/20 Batch: 3/3 cost: 4.587307\n",
            "Epoch   20/20 Batch: 1/3 cost: 7.112052\n",
            "Epoch   20/20 Batch: 2/3 cost: 1.601485\n",
            "Epoch   20/20 Batch: 3/3 cost: 2.227170\n"
          ],
          "name": "stdout"
        }
      ]
    },
    {
      "cell_type": "markdown",
      "metadata": {
        "id": "RmyYJGRNhkTv"
      },
      "source": [
        "**Logistic Regression**"
      ]
    },
    {
      "cell_type": "code",
      "metadata": {
        "id": "Rsm7_434fzpz",
        "colab": {
          "base_uri": "https://localhost:8080/"
        },
        "outputId": "4370671f-6a87-4675-9921-80e8a1bccbc7"
      },
      "source": [
        "x_data = [[1, 2], [2, 3], [3, 1], [4, 3], [5, 3], [6, 2]]\n",
        "y_data = [[0], [0], [0], [1], [1], [1]]\n",
        "\n",
        "x_train = torch.FloatTensor(x_data)\n",
        "y_train = torch.FloatTensor(y_data)\n",
        "\n",
        "print(x_train.shape)\n",
        "print(y_train.shape)"
      ],
      "execution_count": null,
      "outputs": [
        {
          "output_type": "stream",
          "text": [
            "torch.Size([6, 2])\n",
            "torch.Size([6, 1])\n"
          ],
          "name": "stdout"
        }
      ]
    },
    {
      "cell_type": "markdown",
      "metadata": {
        "id": "HRVq2vgtj26D"
      },
      "source": [
        "![image.png](data:image/png;base64,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)\n",
        "\n",
        "hypothesis 공식"
      ]
    },
    {
      "cell_type": "code",
      "metadata": {
        "id": "I-JlS6s4iuzv"
      },
      "source": [
        "W = torch.zeros([2, 1], requires_grad=True)\n",
        "b = torch.zeros([1], requires_grad=True)\n",
        "\n",
        "#시그모이드 함수에 wx + b를 넣은 형태\n",
        "#hypothesis = 1/(1 + torch.exp(-(torch.matmul(x_train, W) + b)))\n",
        "#torch 함수가 제공하는 sigmoid 함수로 변환\n",
        "hypothesis = torch.sigmoid(torch.matmul(x_train, W) + b)"
      ],
      "execution_count": null,
      "outputs": []
    },
    {
      "cell_type": "markdown",
      "metadata": {
        "id": "r4rrosFXj01u"
      },
      "source": [
        "![image.png](data:image/png;base64,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)\n",
        "\n",
        "COST 함수 공식"
      ]
    },
    {
      "cell_type": "code",
      "metadata": {
        "colab": {
          "base_uri": "https://localhost:8080/"
        },
        "id": "GX5iU3zOjZwC",
        "outputId": "15bb35d1-ecc8-4a91-f44b-5c208c543c59"
      },
      "source": [
        "#평균 구하기 전 안쪽 공식\n",
        "losses = -(y_train * torch.log(hypothesis) + (1-y_train)*torch.log(1 - hypothesis))\n",
        "\n",
        "#mean 함수를 이용해 평균을 구해서 cost 구하기\n",
        "cost = losses.mean()\n",
        "print(cost)\n",
        "\n",
        "#이를 한번에 계산하기\n",
        "cost = F.binary_cross_entropy(hypothesis, y_train)\n",
        "print(cost)"
      ],
      "execution_count": null,
      "outputs": [
        {
          "output_type": "stream",
          "text": [
            "tensor(0.6931, grad_fn=<MeanBackward0>)\n",
            "tensor(0.6931, grad_fn=<BinaryCrossEntropyBackward>)\n"
          ],
          "name": "stdout"
        }
      ]
    },
    {
      "cell_type": "code",
      "metadata": {
        "colab": {
          "base_uri": "https://localhost:8080/"
        },
        "id": "RfSSX6l7kqpE",
        "outputId": "84ab655a-cda8-4c8e-e773-76fd484503d6"
      },
      "source": [
        "optimizer = optim.SGD([W, b], lr = 1)\n",
        "\n",
        "nb_epochs = 1000\n",
        "for epoch in range(nb_epochs + 1):\n",
        "  #앞에서 계산했던 예측값\n",
        "  hypothesis = torch.sigmoid(torch.matmul(x_train, W) + b)\n",
        "  \n",
        "  #앞에서 계산했던 cost 함수\n",
        "  cost = F.binary_cross_entropy(hypothesis, y_train)\n",
        "\n",
        "  optimizer.zero_grad()\n",
        "  cost.backward()\n",
        "  optimizer.step()\n",
        "\n",
        "  if(epoch % 100 == 0):\n",
        "    print('Epoch {:4d}/{} Cost : {:.6f}'.format(epoch, nb_epochs, cost.item()))\n",
        "  "
      ],
      "execution_count": null,
      "outputs": [
        {
          "output_type": "stream",
          "text": [
            "Epoch    0/1000 Cost : 0.693147\n",
            "Epoch  100/1000 Cost : 0.134722\n",
            "Epoch  200/1000 Cost : 0.080643\n",
            "Epoch  300/1000 Cost : 0.057900\n",
            "Epoch  400/1000 Cost : 0.045300\n",
            "Epoch  500/1000 Cost : 0.037261\n",
            "Epoch  600/1000 Cost : 0.031672\n",
            "Epoch  700/1000 Cost : 0.027556\n",
            "Epoch  800/1000 Cost : 0.024394\n",
            "Epoch  900/1000 Cost : 0.021888\n",
            "Epoch 1000/1000 Cost : 0.019852\n"
          ],
          "name": "stdout"
        }
      ]
    },
    {
      "cell_type": "markdown",
      "metadata": {
        "id": "JGh1-t6ZlrLd"
      },
      "source": [
        "**Logistic 평가**"
      ]
    },
    {
      "cell_type": "code",
      "metadata": {
        "id": "A041uzpKlyez"
      },
      "source": [
        "#0.5가 넘으면 1로 저장 후 같은 결과 비교\n",
        "prediction = hypothesis >= torch.FloatTensor([0.5])\n",
        "correct_prediction = prediction.float() == y_train"
      ],
      "execution_count": null,
      "outputs": []
    },
    {
      "cell_type": "markdown",
      "metadata": {
        "id": "U106-kQJ85mF"
      },
      "source": [
        "**Logistic regression 클래스로 만들기**"
      ]
    },
    {
      "cell_type": "code",
      "metadata": {
        "id": "Rn-qtIWr8wHr"
      },
      "source": [
        "class BinaryClassifier(nn.Module):\n",
        "  def __init__(self):\n",
        "    super().__init__()\n",
        "    self.linear = nn.Linear(2,1)\n",
        "    self.sigmoid = nn.Sigmoid()\n",
        "\n",
        "  def forward(self, x):\n",
        "    return self.sigmoid(self.linear(x))"
      ],
      "execution_count": null,
      "outputs": []
    },
    {
      "cell_type": "code",
      "metadata": {
        "colab": {
          "base_uri": "https://localhost:8080/"
        },
        "id": "26qi48a39NIk",
        "outputId": "3d7361ef-f32d-421f-ecad-08ecb1a10723"
      },
      "source": [
        "x_data = [[1, 2], [2, 3], [3, 1], [4, 3], [5, 3], [6, 2]]\n",
        "y_data = [[0], [0], [0], [1], [1], [1]]\n",
        "\n",
        "x_train = torch.FloatTensor(x_data)\n",
        "y_train = torch.FloatTensor(y_data)\n",
        "\n",
        "model = BinaryClassifier()\n",
        "\n",
        "#만든 클래스를 이용해서 예측하기\n",
        "optimizer = optim.SGD(model.parameters(), lr = 1)\n",
        "\n",
        "nb_epochs = 100\n",
        "for epoch in range(nb_epochs + 1):\n",
        "  \n",
        "  #model을 이용\n",
        "  hypothesis = model(x_train)\n",
        "  \n",
        "  #앞에서 계산했던 cost 함수\n",
        "  cost = F.binary_cross_entropy(hypothesis, y_train)\n",
        "\n",
        "  optimizer.zero_grad()\n",
        "  cost.backward()\n",
        "  optimizer.step()\n",
        "\n",
        "  # 10번마다 출력\n",
        "  if(epoch % 10 == 0):\n",
        "    prediction = hypothesis >= torch.FloatTensor([0.5])\n",
        "    correct_prediction = prediction.float() == y_train\n",
        "    accuracy = correct_prediction.sum().item() / len(correct_prediction)\n",
        "    print('Epoch {:4d}/{} Cost : {:.6f} Accuracy: {:2.2f}'.format(epoch, nb_epochs, cost.item(), accuracy * 100))"
      ],
      "execution_count": null,
      "outputs": [
        {
          "output_type": "stream",
          "text": [
            "Epoch    0/100 Cost : 0.674921 Accuracy: 50.00\n",
            "Epoch   10/100 Cost : 0.958626 Accuracy: 66.67\n",
            "Epoch   20/100 Cost : 0.631134 Accuracy: 83.33\n",
            "Epoch   30/100 Cost : 0.535473 Accuracy: 83.33\n",
            "Epoch   40/100 Cost : 0.447843 Accuracy: 83.33\n",
            "Epoch   50/100 Cost : 0.363934 Accuracy: 83.33\n",
            "Epoch   60/100 Cost : 0.285129 Accuracy: 83.33\n",
            "Epoch   70/100 Cost : 0.217536 Accuracy: 83.33\n",
            "Epoch   80/100 Cost : 0.172270 Accuracy: 100.00\n",
            "Epoch   90/100 Cost : 0.151261 Accuracy: 100.00\n",
            "Epoch  100/100 Cost : 0.139982 Accuracy: 100.00\n"
          ],
          "name": "stdout"
        }
      ]
    },
    {
      "cell_type": "code",
      "metadata": {
        "id": "K4M0B15D9uje"
      },
      "source": [
        ""
      ],
      "execution_count": null,
      "outputs": []
    }
  ]
}