{
  "nbformat": 4,
  "nbformat_minor": 0,
  "metadata": {
    "colab": {
      "name": "modeep 6~7.ipynb",
      "provenance": []
    },
    "kernelspec": {
      "name": "python3",
      "display_name": "Python 3"
    },
    "language_info": {
      "name": "python"
    }
  },
  "cells": [
    {
      "cell_type": "markdown",
      "metadata": {
        "id": "lROAYV-lLFaS"
      },
      "source": [
        "**Softmax Classification**"
      ]
    },
    {
      "cell_type": "code",
      "metadata": {
        "id": "dsRGrOlMK_BU"
      },
      "source": [
        "import torch\n",
        "import torch.nn as nn\n",
        "import torch.optim as optim\n",
        "import torch.nn.functional as F"
      ],
      "execution_count": 1,
      "outputs": []
    },
    {
      "cell_type": "code",
      "metadata": {
        "colab": {
          "base_uri": "https://localhost:8080/"
        },
        "id": "dx2MZtB5LrOj",
        "outputId": "aa07cc33-b760-4f2b-92e3-715ca5aaeead"
      },
      "source": [
        "torch.manual_seed(1)"
      ],
      "execution_count": 2,
      "outputs": [
        {
          "output_type": "execute_result",
          "data": {
            "text/plain": [
              "<torch._C.Generator at 0x7f00fe6a2ad0>"
            ]
          },
          "metadata": {
            "tags": []
          },
          "execution_count": 2
        }
      ]
    },
    {
      "cell_type": "code",
      "metadata": {
        "id": "kUXPneWJLxcO"
      },
      "source": [
        "z = torch.FloatTensor([1,2,3])"
      ],
      "execution_count": 3,
      "outputs": []
    },
    {
      "cell_type": "code",
      "metadata": {
        "colab": {
          "base_uri": "https://localhost:8080/"
        },
        "id": "PQ1qW5DiMX7W",
        "outputId": "1ab525a7-f886-4cba-deb6-b6ede0cce444"
      },
      "source": [
        "hypothesis = F.softmax(z, dim = 0)\n",
        "print(hypothesis)\n",
        "#각 값의 총합은 1"
      ],
      "execution_count": 4,
      "outputs": [
        {
          "output_type": "stream",
          "text": [
            "tensor([0.0900, 0.2447, 0.6652])\n"
          ],
          "name": "stdout"
        }
      ]
    },
    {
      "cell_type": "code",
      "metadata": {
        "id": "xt0-wM_HMcUA"
      },
      "source": [
        "z = torch.rand(3, 5, requires_grad=True)\n",
        "hypothesis = F.softmax(z, dim = 1)\n",
        "\n",
        "y = torch.randint(5, (3,)).long()"
      ],
      "execution_count": 5,
      "outputs": []
    },
    {
      "cell_type": "code",
      "metadata": {
        "colab": {
          "base_uri": "https://localhost:8080/"
        },
        "id": "eCz-CPb3QY4L",
        "outputId": "790bf1de-38f9-4a98-aa0a-016d67d863ea"
      },
      "source": [
        "y_one_hot = torch.zeros_like(hypothesis)\n",
        "print(y_one_hot)\n",
        "y_one_hot.scatter_(1, y.unsqueeze(1), 1)\n",
        "print(y_one_hot)"
      ],
      "execution_count": 6,
      "outputs": [
        {
          "output_type": "stream",
          "text": [
            "tensor([[0., 0., 0., 0., 0.],\n",
            "        [0., 0., 0., 0., 0.],\n",
            "        [0., 0., 0., 0., 0.]])\n",
            "tensor([[1., 0., 0., 0., 0.],\n",
            "        [0., 0., 1., 0., 0.],\n",
            "        [0., 1., 0., 0., 0.]])\n"
          ],
          "name": "stdout"
        }
      ]
    },
    {
      "cell_type": "code",
      "metadata": {
        "colab": {
          "base_uri": "https://localhost:8080/"
        },
        "id": "S1RRw8qDRf_6",
        "outputId": "26f7f1a1-b2c7-44b2-c823-1643633eac8d"
      },
      "source": [
        "#Low level\n",
        "cost = (y_one_hot * -torch.log(hypothesis)).sum(dim=1).mean()\n",
        "print(cost)"
      ],
      "execution_count": 7,
      "outputs": [
        {
          "output_type": "stream",
          "text": [
            "tensor(1.4689, grad_fn=<MeanBackward0>)\n"
          ],
          "name": "stdout"
        }
      ]
    },
    {
      "cell_type": "code",
      "metadata": {
        "colab": {
          "base_uri": "https://localhost:8080/"
        },
        "id": "SCAysbqjRlso",
        "outputId": "ce199e89-f5a4-4171-a126-89ac09ee6cde"
      },
      "source": [
        "#High level1 : F.log_softmax\n",
        "cost = -(y_one_hot * F.log_softmax(z, dim = 1)).sum(dim = 1).mean()\n",
        "print(cost)\n",
        "\n",
        "#High level2 : F.nll_loss\n",
        "cost = F.nll_loss(F.log_softmax(z, dim = 1), y)\n",
        "print(cost)\n",
        "\n",
        "#High level3 : cross_entropy function\n",
        "cost = F.cross_entropy(z, y)\n",
        "print(cost)"
      ],
      "execution_count": 8,
      "outputs": [
        {
          "output_type": "stream",
          "text": [
            "tensor(1.4689, grad_fn=<NegBackward>)\n",
            "tensor(1.4689, grad_fn=<NllLossBackward>)\n",
            "tensor(1.4689, grad_fn=<NllLossBackward>)\n"
          ],
          "name": "stdout"
        }
      ]
    },
    {
      "cell_type": "code",
      "metadata": {
        "id": "8lXdD9H6TWGZ"
      },
      "source": [
        "x_data = [[1,2,1,1],\n",
        "           [2,1,3,2],\n",
        "           [3,1,3,4],\n",
        "           [4,1,5,5],\n",
        "           [1,7,5,5],\n",
        "           [1,2,5,6],\n",
        "           [1,6,6,6],\n",
        "           [1,7,7,7]]\n",
        "y_data = [2,2,2,1,1,1,0,0]\n",
        "x_train = torch.FloatTensor(x_data)\n",
        "y_train = torch.LongTensor(y_data)"
      ],
      "execution_count": 9,
      "outputs": []
    },
    {
      "cell_type": "code",
      "metadata": {
        "colab": {
          "base_uri": "https://localhost:8080/"
        },
        "id": "AZfS6sr9TmDv",
        "outputId": "48837417-9def-463c-f365-ad5bba26c772"
      },
      "source": [
        "W = torch.zeros((4, 3), requires_grad=True)\n",
        "b = torch.zeros(1, requires_grad=True)\n",
        "\n",
        "optimizer = optim.SGD([W, b], lr=0.1)\n",
        "\n",
        "nb_epochs = 1000\n",
        "for epoch in range(nb_epochs + 1):\n",
        "\n",
        "  #Cost - low level\n",
        "  '''\n",
        "  hypothesis = F.softmax(torch.matmul(x_train, W) + b, dim = 1)\n",
        "  y_one_hot = torch.zeros_like(hypothesis)\n",
        "  y_one_hot.scatter_(1, y_train.unsqueeze(1), 1)\n",
        "  cost = (y_one_hot * -torch.log(hypothesis)).sum(dim = 1).mean()\n",
        "  '''\n",
        "\n",
        "  #Cost - high level\n",
        "  z = torch.matmul(x_train, W) + b\n",
        "  cost = F.cross_entropy(z, y_train)\n",
        "\n",
        "  #gradient\n",
        "  optimizer.zero_grad()\n",
        "  cost.backward()\n",
        "  optimizer.step()\n",
        "\n",
        "  if epoch % 100 == 0:\n",
        "    print('Epoch {:4d} / {}, Cost : {:.6f}'.format(\n",
        "        epoch, nb_epochs, cost.item()\n",
        "    ))"
      ],
      "execution_count": 10,
      "outputs": [
        {
          "output_type": "stream",
          "text": [
            "Epoch    0 / 1000, Cost : 1.098612\n",
            "Epoch  100 / 1000, Cost : 0.761050\n",
            "Epoch  200 / 1000, Cost : 0.689991\n",
            "Epoch  300 / 1000, Cost : 0.643229\n",
            "Epoch  400 / 1000, Cost : 0.604117\n",
            "Epoch  500 / 1000, Cost : 0.568256\n",
            "Epoch  600 / 1000, Cost : 0.533922\n",
            "Epoch  700 / 1000, Cost : 0.500291\n",
            "Epoch  800 / 1000, Cost : 0.466908\n",
            "Epoch  900 / 1000, Cost : 0.433507\n",
            "Epoch 1000 / 1000, Cost : 0.399962\n"
          ],
          "name": "stdout"
        }
      ]
    },
    {
      "cell_type": "markdown",
      "metadata": {
        "id": "cZNgeBGpZEF1"
      },
      "source": [
        "**Class로 만들기**"
      ]
    },
    {
      "cell_type": "code",
      "metadata": {
        "id": "vYt5VBApWjGm"
      },
      "source": [
        "class SoftmaxClassifierModel(nn.Module):\n",
        "  def __init__(self):\n",
        "    super().__init__()\n",
        "    self.linear = nn.Linear(4, 3)\n",
        "  \n",
        "  def forward(self, x):\n",
        "    return self.linear(x)"
      ],
      "execution_count": 11,
      "outputs": []
    },
    {
      "cell_type": "code",
      "metadata": {
        "colab": {
          "base_uri": "https://localhost:8080/"
        },
        "id": "kxyhnlSrZYm4",
        "outputId": "16f93dcd-f621-4baf-91fc-4ecc9202e72c"
      },
      "source": [
        "model = SoftmaxClassifierModel()\n",
        "\n",
        "optimizer = optim.SGD(model.parameters(), lr=0.1)\n",
        "\n",
        "nb_epochs = 1000\n",
        "for epoch in range(nb_epochs + 1):\n",
        "  \n",
        "  #hypothesis\n",
        "  hypothesis = model(x_train)\n",
        "\n",
        "  #cost\n",
        "  cost = F.cross_entropy(hypothesis, y_train)\n",
        "\n",
        "  #gradient\n",
        "  optimizer.zero_grad()\n",
        "  cost.backward()\n",
        "  optimizer.step()\n",
        "\n",
        "  if epoch % 100 == 0:\n",
        "    print('Epoch : {:4d} / {}, Cost : {:.6f}'.format(epoch, nb_epochs, cost.item()))"
      ],
      "execution_count": 12,
      "outputs": [
        {
          "output_type": "stream",
          "text": [
            "Epoch :    0 / 1000, Cost : 1.849513\n",
            "Epoch :  100 / 1000, Cost : 0.689894\n",
            "Epoch :  200 / 1000, Cost : 0.609259\n",
            "Epoch :  300 / 1000, Cost : 0.551218\n",
            "Epoch :  400 / 1000, Cost : 0.500141\n",
            "Epoch :  500 / 1000, Cost : 0.451947\n",
            "Epoch :  600 / 1000, Cost : 0.405051\n",
            "Epoch :  700 / 1000, Cost : 0.358733\n",
            "Epoch :  800 / 1000, Cost : 0.312912\n",
            "Epoch :  900 / 1000, Cost : 0.269522\n",
            "Epoch : 1000 / 1000, Cost : 0.241922\n"
          ],
          "name": "stdout"
        }
      ]
    },
    {
      "cell_type": "markdown",
      "metadata": {
        "id": "cW6INH7RQ4fe"
      },
      "source": [
        "**test로 검증해보기**"
      ]
    },
    {
      "cell_type": "code",
      "metadata": {
        "id": "MHDXgbSsaeVT"
      },
      "source": [
        "x_train = torch.FloatTensor([[1,2,1],\n",
        "                            [1,3,2],\n",
        "                            [1,3,4],\n",
        "                            [1,5,5],\n",
        "                            [1,7,5],\n",
        "                            [1,2,5],\n",
        "                            [1,6,6],\n",
        "                            [1,7,7]])\n",
        "y_train = torch.LongTensor([2,2,2,1,1,1,0,0])\n",
        "\n",
        "x_test = torch.FloatTensor([[2,1,1],[3,1,2],[3,3,4]])\n",
        "y_test = torch.LongTensor([2,2,2])"
      ],
      "execution_count": 13,
      "outputs": []
    },
    {
      "cell_type": "code",
      "metadata": {
        "id": "5ut8vrCEQad8"
      },
      "source": [
        "class SoftmaxClassifierModel(nn.Module):\n",
        "  def __init__(self):\n",
        "    super().__init__()\n",
        "    self.linear = nn.Linear(3, 3)\n",
        "  \n",
        "  def forward(self, x):\n",
        "    return self.linear(x)"
      ],
      "execution_count": 14,
      "outputs": []
    },
    {
      "cell_type": "code",
      "metadata": {
        "id": "6xvw__mEQd2L"
      },
      "source": [
        "model = SoftmaxClassifierModel()\n",
        "\n",
        "optimizer = optim.SGD(model.parameters(), lr=0.1)"
      ],
      "execution_count": 15,
      "outputs": []
    },
    {
      "cell_type": "code",
      "metadata": {
        "id": "jQpqDaRdQh33"
      },
      "source": [
        "def train(model, optimizer, x_train, y_train):\n",
        "  nb_epochs = 20\n",
        "  for epoch in range(nb_epochs + 1):\n",
        "\n",
        "    prediction = model(x_train)\n",
        "\n",
        "    cost = F.cross_entropy(prediction, y_train)\n",
        "\n",
        "    optimizer.zero_grad()\n",
        "    cost.backward()\n",
        "    optimizer.step()\n",
        "\n",
        "    print('Epoch {:4d} / {}, Cost : {:.6f}'.format(epoch, nb_epochs, cost.item()))"
      ],
      "execution_count": 16,
      "outputs": []
    },
    {
      "cell_type": "code",
      "metadata": {
        "id": "Jb_k8fIqRUH-"
      },
      "source": [
        "def test(model, optimizer, x_test, y_test):\n",
        "  prediction = model(x_test)\n",
        "  predicted_classes = prediction.max(1)[1]\n",
        "  correct_count = (predicted_classes == y_test).sum().item()\n",
        "  cost = F.cross_entropy(prediction, y_test)\n",
        "\n",
        "  print('Accuracy: {}% Cost: {:.6f}'.format(correct_count / len(y_test) * 100, cost.item()))"
      ],
      "execution_count": 17,
      "outputs": []
    },
    {
      "cell_type": "code",
      "metadata": {
        "colab": {
          "base_uri": "https://localhost:8080/"
        },
        "id": "8hLVsz6FRn_H",
        "outputId": "2829402d-eef8-4a21-9809-6d0c37c90ac0"
      },
      "source": [
        "train(model, optimizer, x_train, y_train)"
      ],
      "execution_count": 18,
      "outputs": [
        {
          "output_type": "stream",
          "text": [
            "Epoch    0 / 20, Cost : 2.558566\n",
            "Epoch    1 / 20, Cost : 1.796931\n",
            "Epoch    2 / 20, Cost : 1.240436\n",
            "Epoch    3 / 20, Cost : 1.149199\n",
            "Epoch    4 / 20, Cost : 1.136782\n",
            "Epoch    5 / 20, Cost : 1.127878\n",
            "Epoch    6 / 20, Cost : 1.119454\n",
            "Epoch    7 / 20, Cost : 1.111317\n",
            "Epoch    8 / 20, Cost : 1.103407\n",
            "Epoch    9 / 20, Cost : 1.095682\n",
            "Epoch   10 / 20, Cost : 1.088116\n",
            "Epoch   11 / 20, Cost : 1.080694\n",
            "Epoch   12 / 20, Cost : 1.073404\n",
            "Epoch   13 / 20, Cost : 1.066240\n",
            "Epoch   14 / 20, Cost : 1.059197\n",
            "Epoch   15 / 20, Cost : 1.052270\n",
            "Epoch   16 / 20, Cost : 1.045456\n",
            "Epoch   17 / 20, Cost : 1.038752\n",
            "Epoch   18 / 20, Cost : 1.032158\n",
            "Epoch   19 / 20, Cost : 1.025669\n",
            "Epoch   20 / 20, Cost : 1.019286\n"
          ],
          "name": "stdout"
        }
      ]
    },
    {
      "cell_type": "code",
      "metadata": {
        "colab": {
          "base_uri": "https://localhost:8080/"
        },
        "id": "S7ZhyWIjRvyD",
        "outputId": "540e9a6f-d18c-4214-cb60-cc21a3f074c0"
      },
      "source": [
        "test(model, optimizer, x_test, y_test)\n",
        "#->  오버피팅된 상태 "
      ],
      "execution_count": 19,
      "outputs": [
        {
          "output_type": "stream",
          "text": [
            "Accuracy: 0.0% Cost: 1.773133\n"
          ],
          "name": "stdout"
        }
      ]
    },
    {
      "cell_type": "code",
      "metadata": {
        "colab": {
          "base_uri": "https://localhost:8080/"
        },
        "id": "ys8M-5EpRxre",
        "outputId": "effc0025-c430-4284-b8d3-cf3f703c2f67"
      },
      "source": [
        "model = SoftmaxClassifierModel()\n",
        "#학습률에 따라서 cost의 변화를 본다.\n",
        "#너무 크면 cost가 늘어나고 너무 작으면 줄어들지 않는다.\n",
        "optimizer = optim.SGD(model.parameters(), lr = 0.1)\n",
        "\n",
        "train(model, optimizer, x_train, y_train)"
      ],
      "execution_count": 20,
      "outputs": [
        {
          "output_type": "stream",
          "text": [
            "Epoch    0 / 20, Cost : 2.180209\n",
            "Epoch    1 / 20, Cost : 1.414980\n",
            "Epoch    2 / 20, Cost : 1.316441\n",
            "Epoch    3 / 20, Cost : 1.272446\n",
            "Epoch    4 / 20, Cost : 1.250457\n",
            "Epoch    5 / 20, Cost : 1.233646\n",
            "Epoch    6 / 20, Cost : 1.218635\n",
            "Epoch    7 / 20, Cost : 1.204813\n",
            "Epoch    8 / 20, Cost : 1.191737\n",
            "Epoch    9 / 20, Cost : 1.179248\n",
            "Epoch   10 / 20, Cost : 1.167246\n",
            "Epoch   11 / 20, Cost : 1.155676\n",
            "Epoch   12 / 20, Cost : 1.144503\n",
            "Epoch   13 / 20, Cost : 1.133701\n",
            "Epoch   14 / 20, Cost : 1.123248\n",
            "Epoch   15 / 20, Cost : 1.113127\n",
            "Epoch   16 / 20, Cost : 1.103322\n",
            "Epoch   17 / 20, Cost : 1.093816\n",
            "Epoch   18 / 20, Cost : 1.084598\n",
            "Epoch   19 / 20, Cost : 1.075652\n",
            "Epoch   20 / 20, Cost : 1.066968\n"
          ],
          "name": "stdout"
        }
      ]
    },
    {
      "cell_type": "markdown",
      "metadata": {
        "id": "8_WXQWFuSrh9"
      },
      "source": [
        "**데이터 전처리**"
      ]
    },
    {
      "cell_type": "code",
      "metadata": {
        "id": "6PYeRwmTSC73"
      },
      "source": [
        "x_train = torch.FloatTensor([[73,80,75],[93, 88, 93], [89, 91, 90], [96, 98, 100], [73, 66, 70]])\n",
        "y_train = torch.FloatTensor([[152], [185], [180], [196], [142]])"
      ],
      "execution_count": 21,
      "outputs": []
    },
    {
      "cell_type": "code",
      "metadata": {
        "colab": {
          "base_uri": "https://localhost:8080/"
        },
        "id": "oIrNk8GSSShY",
        "outputId": "37ef516b-5690-4f7c-e89a-5ce91c246816"
      },
      "source": [
        "mu = x_train.mean(dim = 0)\n",
        "sigma = x_train.std(dim = 0)\n",
        "norm_x_train = (x_train - mu) / sigma\n",
        "\n",
        "print(norm_x_train)"
      ],
      "execution_count": 22,
      "outputs": [
        {
          "output_type": "stream",
          "text": [
            "tensor([[-1.0674, -0.3758, -0.8398],\n",
            "        [ 0.7418,  0.2778,  0.5863],\n",
            "        [ 0.3799,  0.5229,  0.3486],\n",
            "        [ 1.0132,  1.0948,  1.1409],\n",
            "        [-1.0674, -1.5197, -1.2360]])\n"
          ],
          "name": "stdout"
        }
      ]
    },
    {
      "cell_type": "code",
      "metadata": {
        "id": "b6Or77aGYxWO"
      },
      "source": [
        "class MultivariateLinearRegressionModel(nn.Module):\n",
        "  def __init__(self):\n",
        "    super().__init__()\n",
        "    self.linear = nn.Linear(3, 1)\n",
        "\n",
        "  def forward(self, x):\n",
        "    return self.linear(x)\n",
        "\n",
        "model = MultivariateLinearRegressionModel()\n",
        "\n",
        "optimizer = optim.SGD(model.parameters(), lr = 1e-1)"
      ],
      "execution_count": 23,
      "outputs": []
    },
    {
      "cell_type": "code",
      "metadata": {
        "id": "NKTwj0DOZWXd"
      },
      "source": [
        "def train(model, optimizer, x_train, y_train):\n",
        "  nb_epochs = 20\n",
        "  for epoch in range(nb_epochs + 1):\n",
        "\n",
        "    prediction = model(x_train)\n",
        "\n",
        "    cost = F.mse_loss(prediction, y_train)\n",
        "\n",
        "    optimizer.zero_grad()\n",
        "    cost.backward()\n",
        "    optimizer.step()\n",
        "\n",
        "    print('Epoch {:4d} / {}, Cost : {:.6f}'.format(epoch, nb_epochs, cost.item()))"
      ],
      "execution_count": 24,
      "outputs": []
    },
    {
      "cell_type": "code",
      "metadata": {
        "id": "NBRvs2ZJejky",
        "colab": {
          "base_uri": "https://localhost:8080/"
        },
        "outputId": "73379bec-408f-4a59-936d-0e8ef5cfeb0f"
      },
      "source": [
        "train(model, optimizer, norm_x_train, y_train)"
      ],
      "execution_count": 25,
      "outputs": [
        {
          "output_type": "stream",
          "text": [
            "Epoch    0 / 20, Cost : 29784.714844\n",
            "Epoch    1 / 20, Cost : 18917.908203\n",
            "Epoch    2 / 20, Cost : 12065.722656\n",
            "Epoch    3 / 20, Cost : 7710.173340\n",
            "Epoch    4 / 20, Cost : 4931.301270\n",
            "Epoch    5 / 20, Cost : 3155.339600\n",
            "Epoch    6 / 20, Cost : 2019.448608\n",
            "Epoch    7 / 20, Cost : 1292.681885\n",
            "Epoch    8 / 20, Cost : 827.603149\n",
            "Epoch    9 / 20, Cost : 529.960083\n",
            "Epoch   10 / 20, Cost : 339.463928\n",
            "Epoch   11 / 20, Cost : 217.538574\n",
            "Epoch   12 / 20, Cost : 139.497437\n",
            "Epoch   13 / 20, Cost : 89.542427\n",
            "Epoch   14 / 20, Cost : 57.562733\n",
            "Epoch   15 / 20, Cost : 37.087402\n",
            "Epoch   16 / 20, Cost : 23.975254\n",
            "Epoch   17 / 20, Cost : 15.575839\n",
            "Epoch   18 / 20, Cost : 10.192981\n",
            "Epoch   19 / 20, Cost : 6.740880\n",
            "Epoch   20 / 20, Cost : 4.524698\n"
          ],
          "name": "stdout"
        }
      ]
    },
    {
      "cell_type": "code",
      "metadata": {
        "id": "t3UnnhiGOTUl"
      },
      "source": [
        ""
      ],
      "execution_count": null,
      "outputs": []
    }
  ]
}